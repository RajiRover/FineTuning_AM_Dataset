{
 "cells": [
  {
   "cell_type": "markdown",
   "id": "135d1de1",
   "metadata": {},
   "source": [
    "# How to extract the missing layer details from pyrometer data\n",
    "                                                                                                        - Rajesh Kumar"
   ]
  },
  {
   "cell_type": "markdown",
   "id": "4aabaa31",
   "metadata": {},
   "source": [
    "### Import libraries required"
   ]
  },
  {
   "cell_type": "code",
   "execution_count": 10,
   "id": "812850d9",
   "metadata": {},
   "outputs": [],
   "source": [
    "import os\n",
    "import numpy as np\n",
    "import pathlib\n",
    "from numpy import arange\n",
    "import pandas as pd\n",
    "import shutil"
   ]
  },
  {
   "cell_type": "code",
   "execution_count": 11,
   "id": "d88ca85b",
   "metadata": {},
   "outputs": [],
   "source": [
    "folder = 'C:/Rajesh/SUTD_IDC_IDDAM_Dataset/Print 23092021 (19 cube)/'\n",
    "pyro = ['pyrometer1', 'pyrometer2']\n",
    "batch = ['Batch_1', 'Batch_2']\n",
    "\n",
    "### Folder location for parts, layers\n",
    "parts_folder = folder+pyro[0]+'/'+batch[0]"
   ]
  },
  {
   "cell_type": "markdown",
   "id": "e76e783b",
   "metadata": {},
   "source": [
    "### Check if file exists or not before deleting the csv file"
   ]
  },
  {
   "cell_type": "code",
   "execution_count": 12,
   "id": "696357ec",
   "metadata": {},
   "outputs": [],
   "source": [
    "# If not exists, then creating new directory\n",
    "def csv_part_folder():\n",
    "    csv_folder = folder + '{}_missing_data/'.format(pyro[0])\n",
    "\n",
    "    if os.path.exists(csv_folder):\n",
    "        shutil.rmtree(csv_folder)\n",
    "    else:\n",
    "        print(\"File not found in the directory\")\n",
    "\n",
    "    os.mkdir(csv_folder)\n",
    "    \n",
    "    return csv_folder"
   ]
  },
  {
   "cell_type": "markdown",
   "id": "14c4b753",
   "metadata": {},
   "source": [
    "### Compare two list and output missing and extra element function"
   ]
  },
  {
   "cell_type": "code",
   "execution_count": 13,
   "id": "dc29940b",
   "metadata": {},
   "outputs": [],
   "source": [
    "def finder(start, End, layers):\n",
    "    missing = []\n",
    "    # Generating Floating Point Range w.r.t. layer thickness\n",
    "    original_list = sorted(float('{:.2f}'.format(i)) for i in arange(start, End, 0.03))\n",
    "    for i in range(len(original_list)):\n",
    "        if original_list[i] not in layers:\n",
    "            missing.append(original_list[i])\n",
    "\n",
    "    return missing"
   ]
  },
  {
   "cell_type": "markdown",
   "id": "dc14bddb",
   "metadata": {},
   "source": [
    "## Sorting all parts name from the folder"
   ]
  },
  {
   "cell_type": "code",
   "execution_count": 14,
   "id": "1252fad9",
   "metadata": {},
   "outputs": [
    {
     "name": "stdout",
     "output_type": "stream",
     "text": [
      "all_parts: ['01_D3_1', '02_D3_2', '03_D4_1', '04_D4_2', '05_D5_1', '06_D5_2', '07_D8_1', '08_D8_2', '09_D9_1', '10_D9_2', '11_D10_1', '12_D10_2', '13_D13_1', '14_D13_2', '15_D14_1', '16_D14_2', '17_D15_1', '18_D15_2', '19_D19_1']\n",
      "Number of samples: 19\n"
     ]
    }
   ],
   "source": [
    "all_parts = sorted([j for j in os.listdir(parts_folder)])\n",
    "print('all_parts:', all_parts)\n",
    "print(\"Number of samples:\", len(all_parts))"
   ]
  },
  {
   "cell_type": "markdown",
   "id": "8e87a34d",
   "metadata": {},
   "source": [
    "### Creating the list for appending number of layers and missing layers"
   ]
  },
  {
   "cell_type": "code",
   "execution_count": 15,
   "id": "8d59cc2a",
   "metadata": {},
   "outputs": [],
   "source": [
    "count = []\n",
    "first_layer = []\n",
    "last_layer = []\n",
    "missing_layer = []\n",
    "for part in all_parts:\n",
    "    \n",
    "    layers = sorted([float(l[:-4]) for l in os.listdir(parts_folder+'/'+part)])\n",
    "    \n",
    "    count.append(len(layers))\n",
    "    first_layer.append(min(layers))\n",
    "    last_layer.append(max(layers))\n",
    "    \n",
    "    missing_layer.append(finder(min(layers), max(layers), layers))"
   ]
  },
  {
   "cell_type": "markdown",
   "id": "c22e4e0c",
   "metadata": {},
   "source": [
    "### Creating excel file to export the pyrometer missing layer data"
   ]
  },
  {
   "cell_type": "code",
   "execution_count": 16,
   "id": "7a51476c",
   "metadata": {},
   "outputs": [],
   "source": [
    "csv_folder = csv_part_folder()\n",
    "\n",
    "data = {'29Sep_11Oct_{}_Parts'.format(batch[0]):all_parts, 'Count':count, 'First_Layer':first_layer, \n",
    "        'Last_Layer':last_layer, 'Missing_Layer':missing_layer}\n",
    "df = pd.DataFrame(data, columns=['29Sep_11Oct_{}_Parts'.format(batch[0]), 'Count', 'First_Layer','Last_Layer','Missing_Layer'])\n",
    "df.to_csv(csv_folder+'Pyrometer_missing_details.csv', index=False, header=True)"
   ]
  }
 ],
 "metadata": {
  "kernelspec": {
   "display_name": "Python 3 (ipykernel)",
   "language": "python",
   "name": "python3"
  },
  "language_info": {
   "codemirror_mode": {
    "name": "ipython",
    "version": 3
   },
   "file_extension": ".py",
   "mimetype": "text/x-python",
   "name": "python",
   "nbconvert_exporter": "python",
   "pygments_lexer": "ipython3",
   "version": "3.9.7"
  }
 },
 "nbformat": 4,
 "nbformat_minor": 5
}
